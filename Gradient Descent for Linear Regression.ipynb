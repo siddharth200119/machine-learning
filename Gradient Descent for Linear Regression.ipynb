{
 "cells": [
  {
   "cell_type": "code",
   "execution_count": 1,
   "id": "4ce4c30e",
   "metadata": {},
   "outputs": [],
   "source": [
    "import numpy as np\n",
    "import matplotlib.pyplot as plt"
   ]
  },
  {
   "cell_type": "code",
   "execution_count": 2,
   "id": "036d253d",
   "metadata": {},
   "outputs": [],
   "source": [
    "#adding the dataset\n",
    "x = np.array([0, 1, 2, 3, 4, 5, 6, 7, 8, 9])\n",
    "y = np.array([1, 3, 2, 5, 7, 8, 8, 9, 10, 12])"
   ]
  },
  {
   "cell_type": "code",
   "execution_count": 3,
   "id": "6fb3ca2f",
   "metadata": {},
   "outputs": [
    {
     "data": {
      "text/plain": [
       "<matplotlib.collections.PathCollection at 0x2635ae27c10>"
      ]
     },
     "execution_count": 3,
     "metadata": {},
     "output_type": "execute_result"
    },
    {
     "data": {
      "image/png": "[encoded data removed]",
      "text/plain": [
       "<Figure size 640x480 with 1 Axes>"
      ]
     },
     "metadata": {},
     "output_type": "display_data"
    }
   ],
   "source": [
    "%matplotlib inline\n",
    "plt.xlabel('features')\n",
    "plt.ylabel('target')\n",
    "plt.scatter(x, y, color=\"blue\", marker=\"+\")"
   ]
  },
  {
   "cell_type": "code",
   "execution_count": 10,
   "id": "4f5be26b",
   "metadata": {},
   "outputs": [],
   "source": [
    "def squared_error(x, y, w, b):\n",
    "    temp = 0\n",
    "    for i in range(len(x)):\n",
    "        temp = temp + (w*x[i] + b - y[i])**2\n",
    "    return(temp/2*len(x))\n",
    "\n",
    "def deri_w(x, y, w, b):\n",
    "    dw = 0\n",
    "    for i in range(len(x)):\n",
    "        dw = dw + (w*x[i] + b - y[i])*x[i]\n",
    "    return(dw/len(x))\n",
    "\n",
    "def deri_b(x, y, w, b):\n",
    "    db = 0\n",
    "    for i in range(len(x)):\n",
    "        db = db + (w*x[i] + b - y[i])\n",
    "    return(db/len(x))"
   ]
  },
  {
   "cell_type": "code",
   "execution_count": 22,
   "id": "54a5962e",
   "metadata": {},
   "outputs": [],
   "source": [
    "def gradient_descent(alpha, x, y):\n",
    "    w=0\n",
    "    b=0\n",
    "    while True:\n",
    "        temp_w = w - alpha*deri_w(x, y, w, b)\n",
    "        temp_b = b - alpha*deri_b(x, y, w, b)\n",
    "        if(w - temp_w == 0 and b - temp_b == 0):\n",
    "            w = temp_w\n",
    "            b = temp_b\n",
    "            break;\n",
    "        else:\n",
    "            w = temp_w\n",
    "            b = temp_b\n",
    "            continue\n",
    "    \n",
    "    return (w, b)\n",
    "        "
   ]
  },
  {
   "cell_type": "code",
   "execution_count": 19,
   "id": "e9bc2313",
   "metadata": {},
   "outputs": [],
   "source": [
    "def linear_reg(x, y, x_test):\n",
    "    w, b = gradient_descent(0.0001, x, y)\n",
    "    return (x_test*w + b)"
   ]
  },
  {
   "cell_type": "code",
   "execution_count": 20,
   "id": "eb0c800b",
   "metadata": {},
   "outputs": [
    {
     "name": "stdout",
     "output_type": "stream",
     "text": [
      "14.103030303034002\n"
     ]
    }
   ],
   "source": [
    "print(linear_reg(x, y, 11))"
   ]
  },
  {
   "cell_type": "code",
   "execution_count": null,
   "id": "2c537a91",
   "metadata": {},
   "outputs": [],
   "source": []
  }
 ],
 "metadata": {
  "kernelspec": {
   "display_name": "Python 3 (ipykernel)",
   "language": "python",
   "name": "python3"
  },
  "language_info": {
   "codemirror_mode": {
    "name": "ipython",
    "version": 3
   },
   "file_extension": ".py",
   "mimetype": "text/x-python",
   "name": "python",
   "nbconvert_exporter": "python",
   "pygments_lexer": "ipython3",
   "version": "3.9.13"
  }
 },
 "nbformat": 4,
 "nbformat_minor": 5
}
